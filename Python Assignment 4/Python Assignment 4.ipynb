{
 "cells": [
  {
   "cell_type": "markdown",
   "metadata": {},
   "source": [
    "# Problem 1.1"
   ]
  },
  {
   "cell_type": "code",
   "execution_count": null,
   "metadata": {},
   "outputs": [],
   "source": [
    "# Problem 1\n",
    "\n",
    "class Triangle:\n",
    "    def __init__(self):\n",
    "        self.a = float(input(\"Value of length is: \"))\n",
    "        self.b = float(input(\"Value of length is: \"))\n",
    "        self.c = float(input(\"Value of length is: \"))\n",
    "        \n",
    "class area(Triangle):\n",
    "    def get_area(self):\n",
    "        s = ((self.a) + (self.b) + (self.c))/2\n",
    "        return (s*(s-self.a)*(s-self.b)*(s-self.c))**0.5\n",
    "    \n",
    "val = area()\n",
    "\n",
    "print(\"area: {}\".format(val.get_area()))\n",
    "        \n",
    "    \n",
    "        "
   ]
  },
  {
   "cell_type": "markdown",
   "metadata": {},
   "source": [
    "# Problem 1.2"
   ]
  },
  {
   "cell_type": "code",
   "execution_count": 8,
   "metadata": {},
   "outputs": [
    {
     "name": "stdout",
     "output_type": "stream",
     "text": [
      "['doing?']\n"
     ]
    }
   ],
   "source": [
    "def filter_long_words(n, w):\n",
    "    lst = []\n",
    "    txt = w.split(\" \")\n",
    "    for i in txt:\n",
    "        if len(i) > n:\n",
    "            lst.append(i)\n",
    "    return lst\n",
    "#     return [lst.append(i) for i in txt if (len(i)>n]\n",
    "\n",
    "print(filter_long_words(3, \"How are you doing?\"))\n",
    "    "
   ]
  },
  {
   "cell_type": "markdown",
   "metadata": {},
   "source": [
    "# Problem 2.1"
   ]
  },
  {
   "cell_type": "code",
   "execution_count": 2,
   "metadata": {},
   "outputs": [
    {
     "name": "stdout",
     "output_type": "stream",
     "text": [
      "Enter words Please: a,b\n",
      "Total number of characters in the every instance of list is:  [1, 1]\n"
     ]
    }
   ],
   "source": [
    "def map_long_words(List):\n",
    "    return list(map(len, List))\n",
    "\n",
    "word_List = list(input(\"Enter words Please: \").split(\",\"))\n",
    "\n",
    "List = [x.strip() for x in word_List]\n",
    "\n",
    "Word_Length = map_long_words(List)\n",
    "\n",
    "print(\"Total number of characters in the every instance of list is: \", Word_Length)\n",
    "    \n"
   ]
  },
  {
   "cell_type": "markdown",
   "metadata": {},
   "source": [
    "# Problem 2.2"
   ]
  },
  {
   "cell_type": "code",
   "execution_count": 5,
   "metadata": {},
   "outputs": [
    {
     "ename": "NameError",
     "evalue": "name 'Print' is not defined",
     "output_type": "error",
     "traceback": [
      "\u001b[1;31m---------------------------------------------------------------------------\u001b[0m",
      "\u001b[1;31mNameError\u001b[0m                                 Traceback (most recent call last)",
      "\u001b[1;32m<ipython-input-5-8b3a751f147d>\u001b[0m in \u001b[0;36m<module>\u001b[1;34m\u001b[0m\n\u001b[0;32m     13\u001b[0m \u001b[1;33m\u001b[0m\u001b[0m\n\u001b[0;32m     14\u001b[0m \u001b[1;33m\u001b[0m\u001b[0m\n\u001b[1;32m---> 15\u001b[1;33m \u001b[0mPrint\u001b[0m \u001b[1;33m(\u001b[0m\u001b[1;34m\"Enter any single character to check whether vowel or not: \"\u001b[0m\u001b[1;33m)\u001b[0m\u001b[1;33m\u001b[0m\u001b[1;33m\u001b[0m\u001b[0m\n\u001b[0m\u001b[0;32m     16\u001b[0m input_value = input(\n\u001b[0;32m     17\u001b[0m     +\"Enter your value: \")\n",
      "\u001b[1;31mNameError\u001b[0m: name 'Print' is not defined"
     ]
    }
   ],
   "source": [
    "def Vowel_Check(inputchar):\n",
    "    check = ''\n",
    "    if (len(inputchar ==1)):\n",
    "        Vowel_letter = ['a','e','i','o','u']\n",
    "        if (inputchar.lower() in Vowel_letter):\n",
    "            check = True\n",
    "        else:\n",
    "            check = False\n",
    "    else:\n",
    "        check = \"Please Enter single chatrracter\"\n",
    "    \n",
    "    return check\n",
    "    \n",
    "\n",
    "Print (\"Enter any single character to check whether vowel or not: \")\n",
    "input_value = input(\n",
    "    +\"Enter your value: \")\n",
    "    \n",
    "output = Vowel_Check(input_value)\n",
    "print(\"Output Value is: \", output)"
   ]
  },
  {
   "cell_type": "code",
   "execution_count": null,
   "metadata": {},
   "outputs": [],
   "source": []
  }
 ],
 "metadata": {
  "kernelspec": {
   "display_name": "Python 3",
   "language": "python",
   "name": "python3"
  },
  "language_info": {
   "codemirror_mode": {
    "name": "ipython",
    "version": 3
   },
   "file_extension": ".py",
   "mimetype": "text/x-python",
   "name": "python",
   "nbconvert_exporter": "python",
   "pygments_lexer": "ipython3",
   "version": "3.8.3"
  }
 },
 "nbformat": 4,
 "nbformat_minor": 4
}
